{
  "cells": [
    {
      "cell_type": "code",
      "execution_count": 13,
      "metadata": {
        "id": "yNWQZ42ayL6T"
      },
      "outputs": [],
      "source": [
        "# importing necessary libraries\n",
        "import pandas as pd\n",
        "import matplotlib.pyplot as plt\n",
        "import os\n",
        "import seaborn as sns\n",
        "from sklearn.model_selection import train_test_split\n",
        "from sklearn.ensemble import RandomForestClassifier\n",
        "from sklearn.multioutput import MultiOutputClassifier\n",
        "from sklearn.metrics import classification_report\n",
        "from sklearn.preprocessing import MinMaxScaler\n",
        "import joblib"
      ]
    },
    {
      "cell_type": "code",
      "execution_count": 14,
      "metadata": {
        "id": "QZphx0alyQBJ"
      },
      "outputs": [
        {
          "name": "stdout",
          "output_type": "stream",
          "text": [
            "✅ Loaded irrigation_machine.csv\n"
          ]
        }
      ],
      "source": [
        "\n",
        "file_path = \"irrigation_machine.csv\"\n",
        "if os.path.exists(file_path):\n",
        "    df = pd.read_csv(file_path)\n",
        "    print(f\"✅ Loaded {file_path}\")\n",
        "else:\n",
        "    print(\"❌ File not found.\")\n"
      ]
    },
    {
      "cell_type": "code",
      "execution_count": 15,
      "metadata": {
        "colab": {
          "base_uri": "https://localhost:8080/"
        },
        "id": "-oMJszLhycGN",
        "outputId": "56df6a36-2354-4c3a-9eef-4191e207f7d7"
      },
      "outputs": [
        {
          "data": {
            "text/html": [
              "<div>\n",
              "<style scoped>\n",
              "    .dataframe tbody tr th:only-of-type {\n",
              "        vertical-align: middle;\n",
              "    }\n",
              "\n",
              "    .dataframe tbody tr th {\n",
              "        vertical-align: top;\n",
              "    }\n",
              "\n",
              "    .dataframe thead th {\n",
              "        text-align: right;\n",
              "    }\n",
              "</style>\n",
              "<table border=\"1\" class=\"dataframe\">\n",
              "  <thead>\n",
              "    <tr style=\"text-align: right;\">\n",
              "      <th></th>\n",
              "      <th>Unnamed: 0</th>\n",
              "      <th>sensor_0</th>\n",
              "      <th>sensor_1</th>\n",
              "      <th>sensor_2</th>\n",
              "      <th>sensor_3</th>\n",
              "      <th>sensor_4</th>\n",
              "      <th>sensor_5</th>\n",
              "      <th>sensor_6</th>\n",
              "      <th>sensor_7</th>\n",
              "      <th>sensor_8</th>\n",
              "      <th>...</th>\n",
              "      <th>sensor_13</th>\n",
              "      <th>sensor_14</th>\n",
              "      <th>sensor_15</th>\n",
              "      <th>sensor_16</th>\n",
              "      <th>sensor_17</th>\n",
              "      <th>sensor_18</th>\n",
              "      <th>sensor_19</th>\n",
              "      <th>parcel_0</th>\n",
              "      <th>parcel_1</th>\n",
              "      <th>parcel_2</th>\n",
              "    </tr>\n",
              "  </thead>\n",
              "  <tbody>\n",
              "    <tr>\n",
              "      <th>0</th>\n",
              "      <td>0</td>\n",
              "      <td>1.0</td>\n",
              "      <td>2.0</td>\n",
              "      <td>1.0</td>\n",
              "      <td>7.0</td>\n",
              "      <td>0.0</td>\n",
              "      <td>1.0</td>\n",
              "      <td>1.0</td>\n",
              "      <td>4.0</td>\n",
              "      <td>0.0</td>\n",
              "      <td>...</td>\n",
              "      <td>8.0</td>\n",
              "      <td>1.0</td>\n",
              "      <td>0.0</td>\n",
              "      <td>2.0</td>\n",
              "      <td>1.0</td>\n",
              "      <td>9.0</td>\n",
              "      <td>2.0</td>\n",
              "      <td>0</td>\n",
              "      <td>1</td>\n",
              "      <td>0</td>\n",
              "    </tr>\n",
              "    <tr>\n",
              "      <th>1</th>\n",
              "      <td>1</td>\n",
              "      <td>5.0</td>\n",
              "      <td>1.0</td>\n",
              "      <td>3.0</td>\n",
              "      <td>5.0</td>\n",
              "      <td>2.0</td>\n",
              "      <td>2.0</td>\n",
              "      <td>1.0</td>\n",
              "      <td>2.0</td>\n",
              "      <td>3.0</td>\n",
              "      <td>...</td>\n",
              "      <td>4.0</td>\n",
              "      <td>5.0</td>\n",
              "      <td>5.0</td>\n",
              "      <td>2.0</td>\n",
              "      <td>2.0</td>\n",
              "      <td>2.0</td>\n",
              "      <td>7.0</td>\n",
              "      <td>0</td>\n",
              "      <td>0</td>\n",
              "      <td>0</td>\n",
              "    </tr>\n",
              "    <tr>\n",
              "      <th>2</th>\n",
              "      <td>2</td>\n",
              "      <td>3.0</td>\n",
              "      <td>1.0</td>\n",
              "      <td>4.0</td>\n",
              "      <td>3.0</td>\n",
              "      <td>4.0</td>\n",
              "      <td>0.0</td>\n",
              "      <td>1.0</td>\n",
              "      <td>6.0</td>\n",
              "      <td>0.0</td>\n",
              "      <td>...</td>\n",
              "      <td>3.0</td>\n",
              "      <td>3.0</td>\n",
              "      <td>1.0</td>\n",
              "      <td>0.0</td>\n",
              "      <td>3.0</td>\n",
              "      <td>1.0</td>\n",
              "      <td>0.0</td>\n",
              "      <td>1</td>\n",
              "      <td>1</td>\n",
              "      <td>0</td>\n",
              "    </tr>\n",
              "    <tr>\n",
              "      <th>3</th>\n",
              "      <td>3</td>\n",
              "      <td>2.0</td>\n",
              "      <td>2.0</td>\n",
              "      <td>4.0</td>\n",
              "      <td>3.0</td>\n",
              "      <td>5.0</td>\n",
              "      <td>0.0</td>\n",
              "      <td>3.0</td>\n",
              "      <td>2.0</td>\n",
              "      <td>2.0</td>\n",
              "      <td>...</td>\n",
              "      <td>4.0</td>\n",
              "      <td>1.0</td>\n",
              "      <td>1.0</td>\n",
              "      <td>4.0</td>\n",
              "      <td>1.0</td>\n",
              "      <td>3.0</td>\n",
              "      <td>2.0</td>\n",
              "      <td>0</td>\n",
              "      <td>0</td>\n",
              "      <td>0</td>\n",
              "    </tr>\n",
              "    <tr>\n",
              "      <th>4</th>\n",
              "      <td>4</td>\n",
              "      <td>4.0</td>\n",
              "      <td>3.0</td>\n",
              "      <td>3.0</td>\n",
              "      <td>2.0</td>\n",
              "      <td>5.0</td>\n",
              "      <td>1.0</td>\n",
              "      <td>3.0</td>\n",
              "      <td>1.0</td>\n",
              "      <td>1.0</td>\n",
              "      <td>...</td>\n",
              "      <td>1.0</td>\n",
              "      <td>3.0</td>\n",
              "      <td>2.0</td>\n",
              "      <td>2.0</td>\n",
              "      <td>1.0</td>\n",
              "      <td>1.0</td>\n",
              "      <td>0.0</td>\n",
              "      <td>1</td>\n",
              "      <td>1</td>\n",
              "      <td>0</td>\n",
              "    </tr>\n",
              "  </tbody>\n",
              "</table>\n",
              "<p>5 rows × 24 columns</p>\n",
              "</div>"
            ],
            "text/plain": [
              "   Unnamed: 0  sensor_0  sensor_1  sensor_2  sensor_3  sensor_4  sensor_5  \\\n",
              "0           0       1.0       2.0       1.0       7.0       0.0       1.0   \n",
              "1           1       5.0       1.0       3.0       5.0       2.0       2.0   \n",
              "2           2       3.0       1.0       4.0       3.0       4.0       0.0   \n",
              "3           3       2.0       2.0       4.0       3.0       5.0       0.0   \n",
              "4           4       4.0       3.0       3.0       2.0       5.0       1.0   \n",
              "\n",
              "   sensor_6  sensor_7  sensor_8  ...  sensor_13  sensor_14  sensor_15  \\\n",
              "0       1.0       4.0       0.0  ...        8.0        1.0        0.0   \n",
              "1       1.0       2.0       3.0  ...        4.0        5.0        5.0   \n",
              "2       1.0       6.0       0.0  ...        3.0        3.0        1.0   \n",
              "3       3.0       2.0       2.0  ...        4.0        1.0        1.0   \n",
              "4       3.0       1.0       1.0  ...        1.0        3.0        2.0   \n",
              "\n",
              "   sensor_16  sensor_17  sensor_18  sensor_19  parcel_0  parcel_1  parcel_2  \n",
              "0        2.0        1.0        9.0        2.0         0         1         0  \n",
              "1        2.0        2.0        2.0        7.0         0         0         0  \n",
              "2        0.0        3.0        1.0        0.0         1         1         0  \n",
              "3        4.0        1.0        3.0        2.0         0         0         0  \n",
              "4        2.0        1.0        1.0        0.0         1         1         0  \n",
              "\n",
              "[5 rows x 24 columns]"
            ]
          },
          "execution_count": 15,
          "metadata": {},
          "output_type": "execute_result"
        }
      ],
      "source": [
        "# first 5 rows to be printed, df.tail()\n",
        "df.head()"
      ]
    },
    {
      "cell_type": "code",
      "execution_count": 16,
      "metadata": {
        "colab": {
          "base_uri": "https://localhost:8080/"
        },
        "id": "OTSbYHQwyi4z",
        "outputId": "a60a5798-0754-4123-cc29-c3974d6227e0"
      },
      "outputs": [
        {
          "name": "stdout",
          "output_type": "stream",
          "text": [
            "<class 'pandas.core.frame.DataFrame'>\n",
            "RangeIndex: 2000 entries, 0 to 1999\n",
            "Data columns (total 24 columns):\n",
            " #   Column      Non-Null Count  Dtype  \n",
            "---  ------      --------------  -----  \n",
            " 0   Unnamed: 0  2000 non-null   int64  \n",
            " 1   sensor_0    2000 non-null   float64\n",
            " 2   sensor_1    2000 non-null   float64\n",
            " 3   sensor_2    2000 non-null   float64\n",
            " 4   sensor_3    2000 non-null   float64\n",
            " 5   sensor_4    2000 non-null   float64\n",
            " 6   sensor_5    2000 non-null   float64\n",
            " 7   sensor_6    2000 non-null   float64\n",
            " 8   sensor_7    2000 non-null   float64\n",
            " 9   sensor_8    2000 non-null   float64\n",
            " 10  sensor_9    2000 non-null   float64\n",
            " 11  sensor_10   2000 non-null   float64\n",
            " 12  sensor_11   2000 non-null   float64\n",
            " 13  sensor_12   2000 non-null   float64\n",
            " 14  sensor_13   2000 non-null   float64\n",
            " 15  sensor_14   2000 non-null   float64\n",
            " 16  sensor_15   2000 non-null   float64\n",
            " 17  sensor_16   2000 non-null   float64\n",
            " 18  sensor_17   2000 non-null   float64\n",
            " 19  sensor_18   2000 non-null   float64\n",
            " 20  sensor_19   2000 non-null   float64\n",
            " 21  parcel_0    2000 non-null   int64  \n",
            " 22  parcel_1    2000 non-null   int64  \n",
            " 23  parcel_2    2000 non-null   int64  \n",
            "dtypes: float64(20), int64(4)\n",
            "memory usage: 375.1 KB\n"
          ]
        }
      ],
      "source": [
        "df.info()"
      ]
    },
    {
      "cell_type": "code",
      "execution_count": 17,
      "metadata": {},
      "outputs": [
        {
          "data": {
            "image/png": "[encoded data removed]",
            "text/plain": [
              "<Figure size 2500x1000 with 2 Axes>"
            ]
          },
          "metadata": {},
          "output_type": "display_data"
        }
      ],
      "source": [
        "import missingno as msno\n",
        "# Visualize missing values if any\n",
        "msno.matrix(df)\n",
        "plt.show()\n"
      ]
    },
    {
      "cell_type": "code",
      "execution_count": null,
      "metadata": {
        "colab": {
          "base_uri": "https://localhost:8080/"
        },
        "id": "eIG4IE1Oyt7H",
        "outputId": "4d05f243-4ce3-4274-f81f-9e34cae58a22"
      },
      "outputs": [],
      "source": [
        "df.columns"
      ]
    },
    {
      "cell_type": "code",
      "execution_count": null,
      "metadata": {
        "colab": {
          "base_uri": "https://localhost:8080/",
          "height": 255
        },
        "id": "U3IYL_L9zKyS",
        "outputId": "4b6af56c-ed1b-49e4-eec5-5898450876ac"
      },
      "outputs": [],
      "source": [
        "df = df.drop('Unnamed: 0', axis=1)\n",
        "df.head()"
      ]
    },
    {
      "cell_type": "code",
      "execution_count": null,
      "metadata": {},
      "outputs": [],
      "source": [
        "df.describe() # Statistics of the dataset"
      ]
    },
    {
      "cell_type": "code",
      "execution_count": null,
      "metadata": {
        "id": "i4CIhf400Nvc"
      },
      "outputs": [],
      "source": [
        "# STEP 2: DEFINE FEATURES AND LABELS\n",
        "\n",
        "X = df.iloc[:, 0:20]   # This gives you columns 0 to 19 (sensor_0 to sensor_19)\n",
        "\n",
        "y = df.iloc[:, 20:]"
      ]
    },
    {
      "cell_type": "code",
      "execution_count": null,
      "metadata": {
        "colab": {
          "base_uri": "https://localhost:8080/",
          "height": 383
        },
        "id": "uNxVvh3t02td",
        "outputId": "bf3f78f5-1298-442a-de9f-ec95fd9aceec"
      },
      "outputs": [],
      "source": [
        "X.sample(10)"
      ]
    },
    {
      "cell_type": "code",
      "execution_count": null,
      "metadata": {
        "colab": {
          "base_uri": "https://localhost:8080/",
          "height": 363
        },
        "id": "GSsSc--x062S",
        "outputId": "b7db5472-cfcb-4d04-e35b-c9683f07a1e5"
      },
      "outputs": [],
      "source": [
        "y.sample(10)"
      ]
    },
    {
      "cell_type": "code",
      "execution_count": null,
      "metadata": {},
      "outputs": [],
      "source": [
        "X.info()"
      ]
    },
    {
      "cell_type": "code",
      "execution_count": null,
      "metadata": {},
      "outputs": [],
      "source": [
        "y.info()"
      ]
    },
    {
      "cell_type": "code",
      "execution_count": null,
      "metadata": {},
      "outputs": [],
      "source": [
        "X"
      ]
    },
    {
      "cell_type": "code",
      "execution_count": null,
      "metadata": {
        "colab": {
          "base_uri": "https://localhost:8080/"
        },
        "id": "lSaWzYbX1BKG",
        "outputId": "bfadc338-de38-4321-f9b0-d7821f0a6894"
      },
      "outputs": [],
      "source": [
        "X.shape, y.shape"
      ]
    },
    {
      "cell_type": "code",
      "execution_count": null,
      "metadata": {},
      "outputs": [],
      "source": [
        "scaler = MinMaxScaler()\n",
        "X_scaled = scaler.fit_transform(X)\n",
        "X_scaled"
      ]
    },
    {
      "cell_type": "code",
      "execution_count": null,
      "metadata": {},
      "outputs": [],
      "source": [
        "# STEP 3: TRAIN-TEST SPLIT\n",
        "\n",
        "X_train, X_test, y_train, y_test = train_test_split(X_scaled, y, test_size=0.2, random_state=42)"
      ]
    },
    {
      "cell_type": "code",
      "execution_count": null,
      "metadata": {},
      "outputs": [],
      "source": [
        "X_train.shape, X_test.shape, y_train.shape, y_test.shape"
      ]
    },
    {
      "cell_type": "code",
      "execution_count": null,
      "metadata": {},
      "outputs": [],
      "source": [
        "# Use MultiOutputClassifier to handle multi-label classification\n",
        "from sklearn.ensemble import RandomForestClassifier\n",
        "from sklearn.multioutput import MultiOutputClassifier\n",
        "\n",
        "# Custom hyperparameters for RandomForest\n",
        "rf = RandomForestClassifier(\n",
        "    n_estimators=200,         # Number of trees\n",
        "    max_depth=10,             # Maximum depth of each tree\n",
        "    min_samples_split=4,      # Minimum samples to split a node\n",
        "    min_samples_leaf=2,       # Minimum samples per leaf\n",
        "    max_features='sqrt',      # Number of features to consider at each split ('auto', 'sqrt', 'log2', or int)\n",
        "    random_state=42\n",
        ")\n",
        "\n",
        "# Wrap it with MultiOutputClassifier\n",
        "model = MultiOutputClassifier(rf)\n",
        "\n",
        "# Train the model\n",
        "model.fit(X_train, y_train)"
      ]
    },
    {
      "cell_type": "code",
      "execution_count": null,
      "metadata": {},
      "outputs": [],
      "source": [
        "# STEP 5: EVALUATE MODEL\n",
        "\n",
        "y_pred = model.predict(X_test)\n",
        "print(\"Classification Report:\")\n",
        "print(classification_report(y_test, y_pred, target_names=y.columns))"
      ]
    },
    {
      "cell_type": "code",
      "execution_count": null,
      "metadata": {},
      "outputs": [],
      "source": [
        "print(df[['parcel_0', 'parcel_1', 'parcel_2']].sum())"
      ]
    },
    {
      "cell_type": "code",
      "execution_count": null,
      "metadata": {},
      "outputs": [],
      "source": [
        "import matplotlib.pyplot as plt\n",
        "\n",
        "# Define parcel activation conditions with descriptive labels\n",
        "conditions = {\n",
        "    \"Parcel 0 ON\": df['parcel_0'],\n",
        "    \"Parcel 1 ON\": df['parcel_1'],\n",
        "    \"Parcel 2 ON\": df['parcel_2'],\n",
        "    \"Parcel 0 & 1 ON\": df['parcel_0'] & df['parcel_1'],\n",
        "    \"Parcel 0 & 2 ON\": df['parcel_0'] & df['parcel_2'],\n",
        "    \"Parcel 1 & 2 ON\": df['parcel_1'] & df['parcel_2'],\n",
        "    \"All Parcels ON\": df['parcel_0'] & df['parcel_1'] & df['parcel_2'],\n",
        "}\n",
        "\n",
        "# Create vertically stacked subplots (one for each condition)\n",
        "fig, axs = plt.subplots(nrows=len(conditions), figsize=(10,15), sharex=True)\n",
        "\n",
        "# Loop through each condition to plot corresponding square wave\n",
        "for ax, (title, condition) in zip(axs, conditions.items()):\n",
        "    ax.step(df.index, condition.astype(int), where='post', linewidth=1, color='teal')\n",
        "    ax.set_title(f\"Sprinkler - {title}\")\n",
        "    ax.set_ylabel(\"Status\")\n",
        "    ax.set_yticks([0, 1])\n",
        "    ax.set_yticklabels(['OFF', 'ON'])\n",
        "   \n",
        "\n",
        "# Label x-axis on the last subplot\n",
        "axs[-1].set_xlabel(\"Time Index (Row Number)\")\n",
        "\n",
        "# Plot\n",
        "plt.show()"
      ]
    },
    {
      "cell_type": "code",
      "execution_count": null,
      "metadata": {},
      "outputs": [],
      "source": [
        "# Calculate combined activity of all pumps (overlap)\n",
        "any_pump_on = (df['parcel_0'] == 1) | (df['parcel_1'] == 1) | (df['parcel_2'] == 1)\n",
        "\n",
        "plt.figure(figsize=(15, 5))\n",
        "\n",
        "# Plot individual pump statuses\n",
        "plt.step(df.index, df['parcel_0'], where='post', linewidth=2, label='Parcel 0 Pump', color='blue')\n",
        "plt.step(df.index, df['parcel_1'], where='post', linewidth=2, label='Parcel 1 Pump', color='orange')\n",
        "plt.step(df.index, df['parcel_2'], where='post', linewidth=2, label='Parcel 2 Pump', color='green')\n",
        "\n",
        "plt.title(\"Pump Activity and Combined Farm Coverage\")\n",
        "plt.xlabel(\"Time Index (Row Number)\")\n",
        "plt.ylabel(\"Status\")\n",
        "plt.yticks([0, 1], ['OFF', 'ON'])\n",
        "plt.legend(loc='upper right')\n",
        "plt.show()"
      ]
    },
    {
      "cell_type": "code",
      "execution_count": null,
      "metadata": {},
      "outputs": [],
      "source": [
        "# Visualize Distribution of First 5 Sensors\n",
        "plt.figure(figsize=(14, 6))\n",
        "for i in range(5):\n",
        "    plt.subplot(2, 3, i+1)\n",
        "    sns.histplot(df[f'sensor_{i}'], kde=True, bins=20, color='skyblue')\n",
        "    plt.title(f'Distribution of Sensor {i}')\n",
        "plt.tight_layout()\n",
        "plt.show()"
      ]
    },
    {
      "cell_type": "code",
      "execution_count": null,
      "metadata": {},
      "outputs": [],
      "source": [
        "# Correlation Heatmap for Sensors\n",
        "sensor_cols = [col for col in df.columns if col.startswith('sensor')]\n",
        "plt.figure(figsize=(12, 10))\n",
        "sns.heatmap(df[sensor_cols].corr(), cmap='viridis', annot=False)\n",
        "plt.title(\"Sensor Correlation Heatmap\")\n",
        "plt.tight_layout()\n",
        "plt.show()"
      ]
    },
    {
      "cell_type": "code",
      "execution_count": null,
      "metadata": {},
      "outputs": [],
      "source": [
        "#  Countplot of Pump Activations\n",
        "parcel_cols = ['parcel_0', 'parcel_1', 'parcel_2']\n",
        "plt.figure(figsize=(8, 5))\n",
        "df[parcel_cols].sum().plot(kind='bar', color=['green', 'orange', 'red'])\n",
        "plt.title(\"Pump Activation Count per Parcel\")\n",
        "plt.ylabel(\"Activation Count\")\n",
        "plt.xticks(rotation=0)\n",
        "plt.tight_layout()\n",
        "plt.show()"
      ]
    },
    {
      "cell_type": "code",
      "execution_count": null,
      "metadata": {},
      "outputs": [],
      "source": [
        "import joblib\n",
        "from sklearn.pipeline import Pipeline\n",
        "\n",
        "joblib.dump(model, \"Farm_Irrigation_System.pkl\")"
      ]
    },
    {
      "cell_type": "code",
      "execution_count": null,
      "metadata": {},
      "outputs": [],
      "source": []
    },
    {
      "cell_type": "code",
      "execution_count": null,
      "metadata": {},
      "outputs": [],
      "source": []
    }
  ],
  "metadata": {
    "colab": {
      "provenance": []
    },
    "kernelspec": {
      "display_name": "base",
      "language": "python",
      "name": "python3"
    },
    "language_info": {
      "codemirror_mode": {
        "name": "ipython",
        "version": 3
      },
      "file_extension": ".py",
      "mimetype": "text/x-python",
      "name": "python",
      "nbconvert_exporter": "python",
      "pygments_lexer": "ipython3",
      "version": "3.12.7"
    }
  },
  "nbformat": 4,
  "nbformat_minor": 0
}
